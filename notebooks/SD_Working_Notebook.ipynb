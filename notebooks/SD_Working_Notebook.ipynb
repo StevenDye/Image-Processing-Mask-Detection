{
 "cells": [
  {
   "cell_type": "code",
   "execution_count": 1,
   "metadata": {},
   "outputs": [],
   "source": [
    "import numpy as np\n",
    "import sys\n",
    "import warnings\n",
    "warnings.filterwarnings('ignore')\n",
    "\n",
    "# insert at 1, 0 is the script path (or '' in REPL)\n",
    "sys.path.insert(1, '../src/data/')\n",
    "from make_dataset import X_train, y_train, X_test, y_test\n",
    "\n",
    "sys.path.insert(1, '../src/visualization/')\n",
    "import visualize as vi\n",
    "\n",
    "from tensorflow.keras.layers import (Dense,\n",
    "                                     Dropout,\n",
    "                                     Flatten,\n",
    "                                     Conv2D,\n",
    "                                     MaxPooling2D,\n",
    "                                     Activation)\n",
    "from tensorflow.keras.models import Sequential\n",
    "from tensorflow.keras import regularizers\n",
    "from sklearn.metrics import confusion_matrix, classification_report"
   ]
  },
  {
   "cell_type": "code",
   "execution_count": 2,
   "metadata": {},
   "outputs": [],
   "source": [
    "TRAIN_PATH = '../data/raw/train/'\n",
    "#VALIDATION_PATH = '../data/raw/kaggle/Face Mask Dataset/Validation/'\n",
    "TEST_PATH = '../data/raw/test/'\n",
    "IMG_SIZE = 50\n",
    "BATCH_SIZE = 16"
   ]
  },
  {
   "cell_type": "code",
   "execution_count": 3,
   "metadata": {},
   "outputs": [],
   "source": [
    "# Train:\n",
    "# 1600 with_mask images\n",
    "# 1600 without_mask images\n",
    "# 3200 total images"
   ]
  },
  {
   "cell_type": "code",
   "execution_count": 39,
   "metadata": {},
   "outputs": [
    {
     "data": {
      "text/plain": [
       "(50, 50, 1)"
      ]
     },
     "execution_count": 39,
     "metadata": {},
     "output_type": "execute_result"
    }
   ],
   "source": [
    "INPUT_SHAPE = X_train.shape[1:]\n",
    "INPUT_SHAPE"
   ]
  },
  {
   "cell_type": "code",
   "execution_count": 12,
   "metadata": {},
   "outputs": [],
   "source": [
    "# model = Sequential()\n",
    "\n",
    "# model.add(Conv2D(256, (3, 3), input_shape=INPUT_SHAPE,\n",
    "#                  activation='relu',\n",
    "#                  kernel_regularizer=l2(0.005)))\n",
    "# model.add(MaxPooling2D(pool_size=(2, 2)))\n",
    "\n",
    "# model.add(Conv2D(256, (3, 3),\n",
    "#                 activation='relu',\n",
    "#                 kernel_regularizer=l2(0.005)))\n",
    "# model.add(MaxPooling2D(pool_size=(2, 2)))\n",
    "# model.add(Flatten())  # Converts 3D feature maps to 1D feature vecs\n",
    "# model.add(Dense(64,\n",
    "#                 activation='relu',\n",
    "#                 kernel_regularizer=l2(0.005)))\n",
    "                    \n",
    "# model.add(Dense(1, activation='sigmoid'))\n",
    "\n",
    "\n",
    "# model.compile(loss='binary_crossentropy',\n",
    "#               optimizer='adam',\n",
    "#               metrics=['accuracy'])\n",
    "\n",
    "# model.summary()"
   ]
  },
  {
   "cell_type": "code",
   "execution_count": 13,
   "metadata": {},
   "outputs": [
    {
     "name": "stdout",
     "output_type": "stream",
     "text": [
      "Model: \"sequential_2\"\n",
      "_________________________________________________________________\n",
      "Layer (type)                 Output Shape              Param #   \n",
      "=================================================================\n",
      "conv2d_2 (Conv2D)            (None, 48, 48, 32)        320       \n",
      "_________________________________________________________________\n",
      "activation_1 (Activation)    (None, 48, 48, 32)        0         \n",
      "_________________________________________________________________\n",
      "max_pooling2d_1 (MaxPooling2 (None, 24, 24, 32)        0         \n",
      "_________________________________________________________________\n",
      "conv2d_3 (Conv2D)            (None, 22, 22, 64)        18496     \n",
      "_________________________________________________________________\n",
      "activation_2 (Activation)    (None, 22, 22, 64)        0         \n",
      "_________________________________________________________________\n",
      "max_pooling2d_2 (MaxPooling2 (None, 11, 11, 64)        0         \n",
      "_________________________________________________________________\n",
      "flatten (Flatten)            (None, 7744)              0         \n",
      "_________________________________________________________________\n",
      "dense (Dense)                (None, 64)                495680    \n",
      "_________________________________________________________________\n",
      "activation_3 (Activation)    (None, 64)                0         \n",
      "_________________________________________________________________\n",
      "dropout (Dropout)            (None, 64)                0         \n",
      "_________________________________________________________________\n",
      "dense_1 (Dense)              (None, 1)                 65        \n",
      "_________________________________________________________________\n",
      "activation_4 (Activation)    (None, 1)                 0         \n",
      "=================================================================\n",
      "Total params: 514,561\n",
      "Trainable params: 514,561\n",
      "Non-trainable params: 0\n",
      "_________________________________________________________________\n",
      "None\n"
     ]
    }
   ],
   "source": [
    "model = Sequential()\n",
    "model.add(Conv2D(32, (3, 3),\n",
    "                 input_shape=INPUT_SHAPE,\n",
    "                 kernel_regularizer=regularizers.l2(1e-5),\n",
    "                 bias_regularizer=regularizers.l2(1e-5),\n",
    "                 activity_regularizer=regularizers.l2(1e-5)))\n",
    "model.add(Activation('tanh'))\n",
    "model.add(MaxPooling2D(pool_size=(2, 2)))\n",
    "\n",
    "#model.add(Conv2D(32, (3, 3)))\n",
    "#model.add(Activation('relu'))\n",
    "#model.add(MaxPooling2D(pool_size=(2, 2)))\n",
    "\n",
    "model.add(Conv2D(64, (3, 3), kernel_regularizer=regularizers.l2(1e-5),\n",
    "                 bias_regularizer=regularizers.l2(1e-5),\n",
    "                 activity_regularizer=regularizers.l2(1e-5)))\n",
    "model.add(Activation('tanh'))\n",
    "model.add(MaxPooling2D(pool_size=(2, 2)))\n",
    "\n",
    "model.add(Flatten())\n",
    "model.add(Dense(64, kernel_regularizer=regularizers.l2(1e-5),\n",
    "                bias_regularizer=regularizers.l2(1e-5),\n",
    "                activity_regularizer=regularizers.l2(1e-5)))\n",
    "model.add(Activation('tanh'))\n",
    "model.add(Dropout(0.5))\n",
    "\n",
    "model.add(Dense(1))\n",
    "model.add(Activation('sigmoid'))\n",
    "\n",
    "model.compile(loss='binary_crossentropy',\n",
    "              optimizer='adam',\n",
    "              metrics=['accuracy'])\n",
    "\n",
    "print(model.summary())"
   ]
  },
  {
   "cell_type": "code",
   "execution_count": 31,
   "metadata": {},
   "outputs": [
    {
     "name": "stdout",
     "output_type": "stream",
     "text": [
      "Epoch 1/10\n",
      "120/120 [==============================] - 6s 53ms/step - loss: 0.0569 - accuracy: 0.9875 - val_loss: 0.2254 - val_accuracy: 0.9458\n",
      "Epoch 2/10\n",
      "120/120 [==============================] - 6s 52ms/step - loss: 0.0399 - accuracy: 0.9927 - val_loss: 0.2229 - val_accuracy: 0.9479\n",
      "Epoch 3/10\n",
      "120/120 [==============================] - 9s 75ms/step - loss: 0.0258 - accuracy: 0.9979 - val_loss: 0.2010 - val_accuracy: 0.9542\n",
      "Epoch 4/10\n",
      "120/120 [==============================] - 10s 83ms/step - loss: 0.0212 - accuracy: 0.9995 - val_loss: 0.2197 - val_accuracy: 0.9500\n",
      "Epoch 5/10\n",
      "120/120 [==============================] - 9s 79ms/step - loss: 0.0188 - accuracy: 1.0000 - val_loss: 0.2214 - val_accuracy: 0.9583\n",
      "Epoch 6/10\n",
      "120/120 [==============================] - 10s 87ms/step - loss: 0.0194 - accuracy: 0.9995 - val_loss: 0.2445 - val_accuracy: 0.9521\n",
      "Epoch 7/10\n",
      "120/120 [==============================] - 8s 69ms/step - loss: 0.0178 - accuracy: 1.0000 - val_loss: 0.2240 - val_accuracy: 0.9542\n",
      "Epoch 8/10\n",
      "120/120 [==============================] - 8s 68ms/step - loss: 0.0164 - accuracy: 1.0000 - val_loss: 0.2454 - val_accuracy: 0.9500\n",
      "Epoch 9/10\n",
      "120/120 [==============================] - 8s 70ms/step - loss: 0.0165 - accuracy: 1.0000 - val_loss: 0.2260 - val_accuracy: 0.9542\n",
      "Epoch 10/10\n",
      "120/120 [==============================] - 7s 61ms/step - loss: 0.0155 - accuracy: 1.0000 - val_loss: 0.2222 - val_accuracy: 0.9542\n"
     ]
    }
   ],
   "source": [
    "results = model.fit(X_train, y_train, batch_size=BATCH_SIZE, epochs=10, validation_split=.2)"
   ]
  },
  {
   "cell_type": "code",
   "execution_count": 32,
   "metadata": {},
   "outputs": [
    {
     "name": "stdout",
     "output_type": "stream",
     "text": [
      "25/25 [==============================] - 0s 20ms/step - loss: 0.5483 - accuracy: 0.8750\n"
     ]
    },
    {
     "data": {
      "text/plain": [
       "[0.548283040523529, 0.875]"
      ]
     },
     "execution_count": 32,
     "metadata": {},
     "output_type": "execute_result"
    }
   ],
   "source": [
    "model.evaluate(X_test, y_test)"
   ]
  },
  {
   "cell_type": "code",
   "execution_count": 33,
   "metadata": {},
   "outputs": [],
   "source": [
    "# 10 epochs: [0.41691482067108154, 0.8471518754959106]"
   ]
  },
  {
   "cell_type": "code",
   "execution_count": 34,
   "metadata": {},
   "outputs": [],
   "source": [
    "predictions = model.predict(X_test)\n",
    "flat_list = [item for sublist in predictions.tolist() for item in sublist]\n",
    "rounded_train_preds = [int(np.round(ele)) for ele in flat_list]"
   ]
  },
  {
   "cell_type": "code",
   "execution_count": 35,
   "metadata": {},
   "outputs": [
    {
     "data": {
      "text/plain": [
       "array([[348,  52],\n",
       "       [ 48, 352]])"
      ]
     },
     "execution_count": 35,
     "metadata": {},
     "output_type": "execute_result"
    }
   ],
   "source": [
    "cm = confusion_matrix(y_true=y_test, y_pred=rounded_train_preds)\n",
    "cm"
   ]
  },
  {
   "cell_type": "code",
   "execution_count": 36,
   "metadata": {},
   "outputs": [
    {
     "data": {
      "image/png": "[encoded data removed]",
      "text/plain": [
       "<Figure size 432x288 with 1 Axes>"
      ]
     },
     "metadata": {},
     "output_type": "display_data"
    },
    {
     "data": {
      "image/png": "[encoded data removed]",
      "text/plain": [
       "<Figure size 432x288 with 1 Axes>"
      ]
     },
     "metadata": {},
     "output_type": "display_data"
    }
   ],
   "source": [
    "vi.visualize_training_results(results)"
   ]
  },
  {
   "cell_type": "code",
   "execution_count": 37,
   "metadata": {},
   "outputs": [
    {
     "name": "stdout",
     "output_type": "stream",
     "text": [
      "confusion matrix, without normalization\n"
     ]
    },
    {
     "data": {
      "image/png": "[encoded data removed]",
      "text/plain": [
       "<Figure size 432x288 with 2 Axes>"
      ]
     },
     "metadata": {},
     "output_type": "display_data"
    }
   ],
   "source": [
    "CATEGORIES = ['with_mask', 'without_mask']\n",
    "vi.plot_confusion_matrix(cm=cm, classes=CATEGORIES, title='Confusion Matrix', normalize=False)"
   ]
  },
  {
   "cell_type": "code",
   "execution_count": 23,
   "metadata": {},
   "outputs": [],
   "source": [
    "# # Import image to test\n",
    "\n",
    "# import cv2\n",
    "# from tensorflow.keras.models import load_model\n",
    "\n",
    "# def prepare(filepath, img_size=IMG_SIZE):\n",
    "#     img_array = cv2.imread(filepath, cv2.IMREAD_GRAYSCALE)\n",
    "#     new_array = cv2.reshape(-1, IMG_SIZE, IMG_SIZE, 1)\n",
    "    \n",
    "# model = load_model(\"the-model.model\")\n",
    "\n",
    "# prediction = model.predict([prepare('image.jpg')])"
   ]
  }
 ],
 "metadata": {
  "kernelspec": {
   "display_name": "Python 3",
   "language": "python",
   "name": "python3"
  },
  "language_info": {
   "codemirror_mode": {
    "name": "ipython",
    "version": 3
   },
   "file_extension": ".py",
   "mimetype": "text/x-python",
   "name": "python",
   "nbconvert_exporter": "python",
   "pygments_lexer": "ipython3",
   "version": "3.6.5"
  }
 },
 "nbformat": 4,
 "nbformat_minor": 2
}
