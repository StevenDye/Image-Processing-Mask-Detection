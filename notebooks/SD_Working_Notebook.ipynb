{
 "cells": [
  {
   "cell_type": "code",
   "execution_count": 1,
   "metadata": {},
   "outputs": [],
   "source": [
    "import numpy as np\n",
    "import sys\n",
    "import warnings\n",
    "warnings.filterwarnings('ignore')\n",
    "\n",
    "# insert at 1, 0 is the script path (or '' in REPL)\n",
    "#sys.path.insert(1, '../src/data/')\n",
    "#from make_dataset import X_train, y_train, X_test, y_test, X, y\n",
    "\n",
    "sys.path.insert(1, '../src/visualization/')\n",
    "import visualize as vi\n",
    "\n",
    "from tensorflow.keras.layers import (Dense,\n",
    "                                     Dropout,\n",
    "                                     Flatten,\n",
    "                                     Conv2D,\n",
    "                                     MaxPooling2D,\n",
    "                                     Activation)\n",
    "from tensorflow.keras.models import Sequential\n",
    "from tensorflow.keras.regularizers import l2\n",
    "from sklearn.metrics import confusion_matrix, classification_report\n",
    "from tensorflow.keras.preprocessing.image import (ImageDataGenerator,\n",
    "                                                  img_to_array)"
   ]
  },
  {
   "cell_type": "code",
   "execution_count": 2,
   "metadata": {},
   "outputs": [],
   "source": [
    "ROOT_PATH = '../data/raw/'\n",
    "IMG_SIZE = 50\n",
    "BATCH_SIZE = 50"
   ]
  },
  {
   "cell_type": "code",
   "execution_count": 40,
   "metadata": {},
   "outputs": [],
   "source": [
    "train_datagen = ImageDataGenerator(rescale=1/255.,\n",
    "                                   rotation_range=45,\n",
    "                                   width_shift_range=0.1,\n",
    "                                   height_shift_range=0.1,\n",
    "                                   shear_range=0.2,\n",
    "                                   zoom_range=0.2,\n",
    "                                   horizontal_flip=True,\n",
    "                                   fill_mode='reflect',\n",
    "                                   validation_split=0.3)"
   ]
  },
  {
   "cell_type": "code",
   "execution_count": 4,
   "metadata": {},
   "outputs": [
    {
     "name": "stdout",
     "output_type": "stream",
     "text": [
      "Found 2528 images belonging to 2 classes.\n"
     ]
    }
   ],
   "source": [
    "train_generator = train_datagen.flow_from_directory(directory=ROOT_PATH,\n",
    "                                                    batch_size=BATCH_SIZE,\n",
    "                                                    target_size=(IMG_SIZE, IMG_SIZE),\n",
    "                                                    color_mode='grayscale',\n",
    "                                                    class_mode='binary',\n",
    "                                                    subset='training')"
   ]
  },
  {
   "cell_type": "code",
   "execution_count": 5,
   "metadata": {},
   "outputs": [
    {
     "name": "stdout",
     "output_type": "stream",
     "text": [
      "Found 632 images belonging to 2 classes.\n"
     ]
    }
   ],
   "source": [
    "validation_generator = train_datagen.flow_from_directory(directory=ROOT_PATH,\n",
    "                                                         batch_size=BATCH_SIZE,\n",
    "                                                         target_size=(IMG_SIZE, IMG_SIZE),\n",
    "                                                         color_mode='grayscale',\n",
    "                                                         class_mode='binary',\n",
    "                                                         subset='validation')"
   ]
  },
  {
   "cell_type": "code",
   "execution_count": 6,
   "metadata": {},
   "outputs": [
    {
     "name": "stdout",
     "output_type": "stream",
     "text": [
      "Found 3160 images belonging to 2 classes.\n"
     ]
    }
   ],
   "source": [
    "test_datagen = ImageDataGenerator(rescale=1/255.)\n",
    "\n",
    "test_generator = test_datagen.flow_from_directory(directory=ROOT_PATH,\n",
    "                                                  batch_size=BATCH_SIZE,\n",
    "                                                  target_size=(IMG_SIZE, IMG_SIZE),\n",
    "                                                  color_mode='grayscale',\n",
    "                                                  class_mode='binary')"
   ]
  },
  {
   "cell_type": "code",
   "execution_count": 7,
   "metadata": {},
   "outputs": [],
   "source": [
    "# 1580 with_mask images\n",
    "# 1580 without_mask images\n",
    "# 3160 total images"
   ]
  },
  {
   "cell_type": "code",
   "execution_count": 8,
   "metadata": {},
   "outputs": [],
   "source": [
    "INPUT_SHAPE = (IMG_SIZE, IMG_SIZE, 1)"
   ]
  },
  {
   "cell_type": "code",
   "execution_count": 9,
   "metadata": {},
   "outputs": [],
   "source": [
    "# model = Sequential()\n",
    "\n",
    "# model.add(Conv2D(256, (3, 3), input_shape=INPUT_SHAPE,\n",
    "#                  activation='relu',\n",
    "#                  kernel_regularizer=l2(0.005)))\n",
    "# model.add(MaxPooling2D(pool_size=(2, 2)))\n",
    "\n",
    "# model.add(Conv2D(256, (3, 3),\n",
    "#                 activation='relu',\n",
    "#                 kernel_regularizer=l2(0.005)))\n",
    "# model.add(MaxPooling2D(pool_size=(2, 2)))\n",
    "# model.add(Flatten())  # Converts 3D feature maps to 1D feature vecs\n",
    "# model.add(Dense(64,\n",
    "#                 activation='relu',\n",
    "#                 kernel_regularizer=l2(0.005)))\n",
    "                    \n",
    "# model.add(Dense(1, activation='sigmoid'))\n",
    "\n",
    "\n",
    "# model.compile(loss='binary_crossentropy',\n",
    "#               optimizer='adam',\n",
    "#               metrics=['accuracy'])\n",
    "\n",
    "# model.summary()"
   ]
  },
  {
   "cell_type": "code",
   "execution_count": 10,
   "metadata": {},
   "outputs": [
    {
     "name": "stdout",
     "output_type": "stream",
     "text": [
      "Model: \"sequential\"\n",
      "_________________________________________________________________\n",
      "Layer (type)                 Output Shape              Param #   \n",
      "=================================================================\n",
      "conv2d (Conv2D)              (None, 48, 48, 32)        320       \n",
      "_________________________________________________________________\n",
      "activation (Activation)      (None, 48, 48, 32)        0         \n",
      "_________________________________________________________________\n",
      "max_pooling2d (MaxPooling2D) (None, 24, 24, 32)        0         \n",
      "_________________________________________________________________\n",
      "conv2d_1 (Conv2D)            (None, 22, 22, 32)        9248      \n",
      "_________________________________________________________________\n",
      "activation_1 (Activation)    (None, 22, 22, 32)        0         \n",
      "_________________________________________________________________\n",
      "max_pooling2d_1 (MaxPooling2 (None, 11, 11, 32)        0         \n",
      "_________________________________________________________________\n",
      "conv2d_2 (Conv2D)            (None, 9, 9, 64)          18496     \n",
      "_________________________________________________________________\n",
      "activation_2 (Activation)    (None, 9, 9, 64)          0         \n",
      "_________________________________________________________________\n",
      "max_pooling2d_2 (MaxPooling2 (None, 4, 4, 64)          0         \n",
      "_________________________________________________________________\n",
      "flatten (Flatten)            (None, 1024)              0         \n",
      "_________________________________________________________________\n",
      "dense (Dense)                (None, 64)                65600     \n",
      "_________________________________________________________________\n",
      "activation_3 (Activation)    (None, 64)                0         \n",
      "_________________________________________________________________\n",
      "dropout (Dropout)            (None, 64)                0         \n",
      "_________________________________________________________________\n",
      "dense_1 (Dense)              (None, 1)                 65        \n",
      "_________________________________________________________________\n",
      "activation_4 (Activation)    (None, 1)                 0         \n",
      "=================================================================\n",
      "Total params: 93,729\n",
      "Trainable params: 93,729\n",
      "Non-trainable params: 0\n",
      "_________________________________________________________________\n",
      "None\n"
     ]
    }
   ],
   "source": [
    "model = Sequential()\n",
    "model.add(Conv2D(32, (3, 3), input_shape=INPUT_SHAPE))\n",
    "model.add(Activation('relu'))\n",
    "model.add(MaxPooling2D(pool_size=(2, 2)))\n",
    "\n",
    "model.add(Conv2D(32, (3, 3)))\n",
    "model.add(Activation('relu'))\n",
    "model.add(MaxPooling2D(pool_size=(2, 2)))\n",
    "\n",
    "model.add(Conv2D(64, (3, 3)))\n",
    "model.add(Activation('relu'))\n",
    "model.add(MaxPooling2D(pool_size=(2, 2)))\n",
    "\n",
    "model.add(Flatten())\n",
    "model.add(Dense(64))\n",
    "model.add(Activation('relu'))\n",
    "model.add(Dropout(0.5))\n",
    "model.add(Dense(1))\n",
    "model.add(Activation('sigmoid'))\n",
    "\n",
    "model.compile(loss='binary_crossentropy',\n",
    "              optimizer='rmsprop',\n",
    "              metrics=['accuracy'])\n",
    "\n",
    "print(model.summary())"
   ]
  },
  {
   "cell_type": "code",
   "execution_count": 11,
   "metadata": {},
   "outputs": [],
   "source": [
    "#results = model.fit(train_generator,\n",
    "#                    steps_per_epoch=2000 // BATCH_SIZE,\n",
    "#                    epochs=2,\n",
    "#                    validation_data=validation_generator,\n",
    "#                    validation_steps=800 // BATCH_SIZE)\n",
    "#model.save('hold-on-to-your-butts.h5')\n",
    "\n",
    "# Only augmented data is passed into the model through the generator, never the original photo"
   ]
  },
  {
   "cell_type": "code",
   "execution_count": 41,
   "metadata": {},
   "outputs": [
    {
     "name": "stdout",
     "output_type": "stream",
     "text": [
      "Epoch 1/50\n",
      "50/50 [==============================] - 16s 314ms/step - loss: 0.1698 - accuracy: 0.9342 - val_loss: 0.1265 - val_accuracy: 0.9517\n",
      "Epoch 2/50\n",
      "50/50 [==============================] - 15s 301ms/step - loss: 0.1786 - accuracy: 0.9354 - val_loss: 0.1103 - val_accuracy: 0.9633\n",
      "Epoch 3/50\n",
      "50/50 [==============================] - 15s 308ms/step - loss: 0.1830 - accuracy: 0.9290 - val_loss: 0.1073 - val_accuracy: 0.9600\n",
      "Epoch 4/50\n",
      "50/50 [==============================] - 15s 304ms/step - loss: 0.1745 - accuracy: 0.9415 - val_loss: 0.1640 - val_accuracy: 0.9333\n",
      "Epoch 5/50\n",
      "50/50 [==============================] - 15s 306ms/step - loss: 0.1794 - accuracy: 0.9298 - val_loss: 0.1277 - val_accuracy: 0.9500\n",
      "Epoch 6/50\n",
      "50/50 [==============================] - 15s 299ms/step - loss: 0.1618 - accuracy: 0.9366 - val_loss: 0.1394 - val_accuracy: 0.9450\n",
      "Epoch 7/50\n",
      "50/50 [==============================] - 15s 303ms/step - loss: 0.1720 - accuracy: 0.9306 - val_loss: 0.1236 - val_accuracy: 0.9550\n",
      "Epoch 8/50\n",
      "50/50 [==============================] - 15s 302ms/step - loss: 0.1382 - accuracy: 0.9411 - val_loss: 0.1251 - val_accuracy: 0.9567\n",
      "Epoch 9/50\n",
      "50/50 [==============================] - 15s 297ms/step - loss: 0.1611 - accuracy: 0.9431 - val_loss: 0.1712 - val_accuracy: 0.9267\n",
      "Epoch 10/50\n",
      "50/50 [==============================] - 16s 313ms/step - loss: 0.1602 - accuracy: 0.9427 - val_loss: 0.1869 - val_accuracy: 0.9433\n",
      "Epoch 11/50\n",
      "50/50 [==============================] - 15s 305ms/step - loss: 0.1648 - accuracy: 0.9411 - val_loss: 0.1220 - val_accuracy: 0.9550\n",
      "Epoch 12/50\n",
      "50/50 [==============================] - 15s 308ms/step - loss: 0.1661 - accuracy: 0.9374 - val_loss: 0.2070 - val_accuracy: 0.8967\n",
      "Epoch 13/50\n",
      "50/50 [==============================] - 16s 310ms/step - loss: 0.1442 - accuracy: 0.9475 - val_loss: 0.0821 - val_accuracy: 0.9667\n",
      "Epoch 14/50\n",
      "50/50 [==============================] - 1571s 31s/step - loss: 0.1622 - accuracy: 0.9463 - val_loss: 0.1443 - val_accuracy: 0.9400\n",
      "Epoch 15/50\n",
      "50/50 [==============================] - 20s 405ms/step - loss: 0.1578 - accuracy: 0.9399 - val_loss: 0.1525 - val_accuracy: 0.9467\n",
      "Epoch 16/50\n",
      "50/50 [==============================] - 16s 321ms/step - loss: 0.1513 - accuracy: 0.9403 - val_loss: 0.1245 - val_accuracy: 0.9517\n",
      "Epoch 17/50\n",
      "50/50 [==============================] - 15s 309ms/step - loss: 0.1591 - accuracy: 0.9423 - val_loss: 0.1302 - val_accuracy: 0.9533\n",
      "Epoch 18/50\n",
      "50/50 [==============================] - 16s 317ms/step - loss: 0.1481 - accuracy: 0.9475 - val_loss: 0.1757 - val_accuracy: 0.9283\n",
      "Epoch 19/50\n",
      "50/50 [==============================] - 16s 313ms/step - loss: 0.1426 - accuracy: 0.9483 - val_loss: 0.1569 - val_accuracy: 0.9350\n",
      "Epoch 20/50\n",
      "50/50 [==============================] - 15s 304ms/step - loss: 0.1449 - accuracy: 0.9467 - val_loss: 0.1082 - val_accuracy: 0.9650\n",
      "Epoch 21/50\n",
      "50/50 [==============================] - 15s 309ms/step - loss: 0.1493 - accuracy: 0.9403 - val_loss: 0.1249 - val_accuracy: 0.9467\n",
      "Epoch 22/50\n",
      "50/50 [==============================] - 15s 307ms/step - loss: 0.1610 - accuracy: 0.9403 - val_loss: 0.1063 - val_accuracy: 0.9683\n",
      "Epoch 23/50\n",
      "50/50 [==============================] - 15s 308ms/step - loss: 0.1475 - accuracy: 0.9431 - val_loss: 0.0982 - val_accuracy: 0.9667\n",
      "Epoch 24/50\n",
      "50/50 [==============================] - 15s 305ms/step - loss: 0.1434 - accuracy: 0.9443 - val_loss: 0.1029 - val_accuracy: 0.9650\n",
      "Epoch 25/50\n",
      "50/50 [==============================] - 16s 312ms/step - loss: 0.1386 - accuracy: 0.9459 - val_loss: 0.1178 - val_accuracy: 0.9567\n",
      "Epoch 26/50\n",
      "50/50 [==============================] - 15s 309ms/step - loss: 0.1670 - accuracy: 0.9374 - val_loss: 0.1111 - val_accuracy: 0.9633\n",
      "Epoch 27/50\n",
      "50/50 [==============================] - 15s 308ms/step - loss: 0.1562 - accuracy: 0.9471 - val_loss: 0.1208 - val_accuracy: 0.9667\n",
      "Epoch 28/50\n",
      "50/50 [==============================] - 15s 301ms/step - loss: 0.1407 - accuracy: 0.9447 - val_loss: 0.1132 - val_accuracy: 0.9617\n",
      "Epoch 29/50\n",
      "50/50 [==============================] - 27s 541ms/step - loss: 0.1474 - accuracy: 0.9455 - val_loss: 0.1055 - val_accuracy: 0.9500\n",
      "Epoch 30/50\n",
      "50/50 [==============================] - 27s 535ms/step - loss: 0.1399 - accuracy: 0.9475 - val_loss: 0.1397 - val_accuracy: 0.9333\n",
      "Epoch 31/50\n",
      "50/50 [==============================] - 20s 395ms/step - loss: 0.1481 - accuracy: 0.9387 - val_loss: 0.1637 - val_accuracy: 0.9383\n",
      "Epoch 32/50\n",
      "50/50 [==============================] - 15s 300ms/step - loss: 0.1440 - accuracy: 0.9475 - val_loss: 0.1862 - val_accuracy: 0.9367\n",
      "Epoch 33/50\n",
      "50/50 [==============================] - 15s 296ms/step - loss: 0.1416 - accuracy: 0.9455 - val_loss: 0.1431 - val_accuracy: 0.9450\n",
      "Epoch 34/50\n",
      "50/50 [==============================] - 15s 300ms/step - loss: 0.1387 - accuracy: 0.9463 - val_loss: 0.1205 - val_accuracy: 0.9600\n",
      "Epoch 35/50\n",
      "50/50 [==============================] - 21s 427ms/step - loss: 0.1392 - accuracy: 0.9487 - val_loss: 0.0969 - val_accuracy: 0.9600\n",
      "Epoch 36/50\n",
      "50/50 [==============================] - 16s 328ms/step - loss: 0.1432 - accuracy: 0.9475 - val_loss: 0.1403 - val_accuracy: 0.9417\n",
      "Epoch 37/50\n",
      "50/50 [==============================] - 20s 401ms/step - loss: 0.1313 - accuracy: 0.9483 - val_loss: 0.1044 - val_accuracy: 0.9583\n",
      "Epoch 38/50\n",
      "50/50 [==============================] - 23s 451ms/step - loss: 0.1425 - accuracy: 0.9520 - val_loss: 0.1833 - val_accuracy: 0.9217\n",
      "Epoch 39/50\n",
      "50/50 [==============================] - 16s 329ms/step - loss: 0.1499 - accuracy: 0.9479 - val_loss: 0.1511 - val_accuracy: 0.9500\n",
      "Epoch 40/50\n",
      "50/50 [==============================] - 18s 358ms/step - loss: 0.1516 - accuracy: 0.9492 - val_loss: 0.1248 - val_accuracy: 0.9550\n",
      "Epoch 41/50\n",
      "50/50 [==============================] - 23s 458ms/step - loss: 0.1328 - accuracy: 0.9536 - val_loss: 0.1536 - val_accuracy: 0.9417\n",
      "Epoch 42/50\n",
      "50/50 [==============================] - 17s 350ms/step - loss: 0.1432 - accuracy: 0.9463 - val_loss: 0.0816 - val_accuracy: 0.9583\n",
      "Epoch 43/50\n",
      "50/50 [==============================] - 17s 344ms/step - loss: 0.1534 - accuracy: 0.9427 - val_loss: 0.1039 - val_accuracy: 0.9633\n",
      "Epoch 44/50\n",
      "50/50 [==============================] - 16s 330ms/step - loss: 0.1405 - accuracy: 0.9447 - val_loss: 0.1303 - val_accuracy: 0.9500\n",
      "Epoch 45/50\n",
      "50/50 [==============================] - 20s 403ms/step - loss: 0.1344 - accuracy: 0.9500 - val_loss: 0.2197 - val_accuracy: 0.9050\n",
      "Epoch 46/50\n",
      "50/50 [==============================] - 18s 354ms/step - loss: 0.1651 - accuracy: 0.9435 - val_loss: 0.0798 - val_accuracy: 0.9733\n",
      "Epoch 47/50\n",
      "50/50 [==============================] - 19s 386ms/step - loss: 0.1237 - accuracy: 0.9544 - val_loss: 0.1132 - val_accuracy: 0.9550\n",
      "Epoch 48/50\n",
      "50/50 [==============================] - 21s 427ms/step - loss: 0.1476 - accuracy: 0.9471 - val_loss: 0.1852 - val_accuracy: 0.9383\n",
      "Epoch 49/50\n",
      "50/50 [==============================] - 33s 658ms/step - loss: 0.1425 - accuracy: 0.9504 - val_loss: 0.1177 - val_accuracy: 0.9700\n",
      "Epoch 50/50\n",
      "50/50 [==============================] - 21s 414ms/step - loss: 0.1405 - accuracy: 0.9516 - val_loss: 0.1278 - val_accuracy: 0.9517\n"
     ]
    }
   ],
   "source": [
    "results = model.fit(train_generator,\n",
    "                    batch_size=BATCH_SIZE,\n",
    "                    steps_per_epoch = 2528 // BATCH_SIZE,\n",
    "                    epochs=50,\n",
    "                    validation_data=validation_generator,\n",
    "                    validation_steps = 632 // BATCH_SIZE)\n",
    "model.save('hold-on-to-your-butts.h5')\n",
    "\n",
    "# Only augmented data is passed into the model through the generator, never the original photo"
   ]
  },
  {
   "cell_type": "code",
   "execution_count": 42,
   "metadata": {},
   "outputs": [],
   "source": [
    "from tensorflow.keras.callbacks import ModelCheckpoint, EarlyStopping\n",
    "file_path = \"../models/50x50-{epoch:02d}-{val_acc:.2f}.hdf5\"\n",
    "checkpoint = ModelCheckpoint(file_path, monitor='val_acc', verbose=1, save_best_only=True, mode='max')\n",
    "\n",
    "early_stop = EarlyStopping(monitor='val_loss', patience=3, verbose=1)\n",
    "callbacks_list = [checkpoint]"
   ]
  },
  {
   "cell_type": "code",
   "execution_count": 43,
   "metadata": {},
   "outputs": [
    {
     "name": "stdout",
     "output_type": "stream",
     "text": [
      "64/64 [==============================] - 14s 223ms/step - loss: 0.1442 - accuracy: 0.9693\n"
     ]
    },
    {
     "data": {
      "text/plain": [
       "[0.1441582590341568, 0.9693037867546082]"
      ]
     },
     "execution_count": 43,
     "metadata": {},
     "output_type": "execute_result"
    }
   ],
   "source": [
    "model.evaluate(test_generator)"
   ]
  },
  {
   "cell_type": "code",
   "execution_count": 44,
   "metadata": {},
   "outputs": [],
   "source": [
    "# 10 epochs: [0.41691482067108154, 0.8471518754959106]"
   ]
  },
  {
   "cell_type": "code",
   "execution_count": 45,
   "metadata": {},
   "outputs": [],
   "source": [
    "# predictions = model.predict(test_generator)"
   ]
  },
  {
   "cell_type": "code",
   "execution_count": 46,
   "metadata": {},
   "outputs": [
    {
     "data": {
      "text/plain": [
       "<tensorflow.python.keras.preprocessing.image.DirectoryIterator at 0x7f928c43b0f0>"
      ]
     },
     "execution_count": 46,
     "metadata": {},
     "output_type": "execute_result"
    }
   ],
   "source": [
    "test_generator"
   ]
  },
  {
   "cell_type": "code",
   "execution_count": 47,
   "metadata": {},
   "outputs": [],
   "source": [
    "train_preds = model.predict(train_generator, batch_size=BATCH_SIZE, verbose=0)\n",
    "flat_list = [item for sublist in predictions.tolist() for item in sublist]\n",
    "rounded_train_preds = [int(np.round(ele)) for ele in flat_list]"
   ]
  },
  {
   "cell_type": "code",
   "execution_count": 48,
   "metadata": {},
   "outputs": [],
   "source": [
    "#cm = confusion_matrix(y_true=train_generator.classes, y_pred=rounded_train_preds)\n",
    "#cm"
   ]
  },
  {
   "cell_type": "code",
   "execution_count": 49,
   "metadata": {},
   "outputs": [],
   "source": [
    "test_preds = model.predict(test_generator, batch_size=BATCH_SIZE, verbose=0)\n",
    "flat_list = [item for sublist in predictions.tolist() for item in sublist]\n",
    "rounded_test_preds = [int(np.round(ele)) for ele in flat_list]"
   ]
  },
  {
   "cell_type": "code",
   "execution_count": 50,
   "metadata": {},
   "outputs": [
    {
     "data": {
      "text/plain": [
       "array([[0.9168196 ],\n",
       "       [0.07864359],\n",
       "       [0.92490184],\n",
       "       ...,\n",
       "       [0.70535696],\n",
       "       [0.11403981],\n",
       "       [0.76511264]], dtype=float32)"
      ]
     },
     "execution_count": 50,
     "metadata": {},
     "output_type": "execute_result"
    }
   ],
   "source": [
    "predictions"
   ]
  },
  {
   "cell_type": "code",
   "execution_count": 51,
   "metadata": {},
   "outputs": [
    {
     "data": {
      "text/plain": [
       "array([0, 0, 0, ..., 1, 1, 1], dtype=int32)"
      ]
     },
     "execution_count": 51,
     "metadata": {},
     "output_type": "execute_result"
    }
   ],
   "source": [
    "test_generator.classes"
   ]
  },
  {
   "cell_type": "code",
   "execution_count": 52,
   "metadata": {},
   "outputs": [
    {
     "data": {
      "text/plain": [
       "array([[838, 742],\n",
       "       [837, 743]])"
      ]
     },
     "execution_count": 52,
     "metadata": {},
     "output_type": "execute_result"
    }
   ],
   "source": [
    "cm = confusion_matrix(y_true=test_generator.classes, y_pred=rounded_predictions)\n",
    "cm"
   ]
  },
  {
   "cell_type": "code",
   "execution_count": 53,
   "metadata": {},
   "outputs": [
    {
     "data": {
      "image/png": "[encoded data removed]",
      "text/plain": [
       "<Figure size 432x288 with 1 Axes>"
      ]
     },
     "metadata": {},
     "output_type": "display_data"
    },
    {
     "data": {
      "image/png": "[encoded data removed]",
      "text/plain": [
       "<Figure size 432x288 with 1 Axes>"
      ]
     },
     "metadata": {},
     "output_type": "display_data"
    }
   ],
   "source": [
    "vi.visualize_training_results(results)"
   ]
  },
  {
   "cell_type": "code",
   "execution_count": 54,
   "metadata": {},
   "outputs": [
    {
     "name": "stdout",
     "output_type": "stream",
     "text": [
      "confusion matrix, without normalization\n"
     ]
    },
    {
     "data": {
      "image/png": "[encoded data removed]",
      "text/plain": [
       "<Figure size 432x288 with 2 Axes>"
      ]
     },
     "metadata": {},
     "output_type": "display_data"
    }
   ],
   "source": [
    "CATEGORIES = ['with_mask', 'without_mask']\n",
    "vi.plot_confusion_matrix(cm=cm, classes=CATEGORIES, title='Confusion Matrix', normalize=False)"
   ]
  },
  {
   "cell_type": "code",
   "execution_count": 36,
   "metadata": {},
   "outputs": [],
   "source": [
    "# # Import image to test\n",
    "\n",
    "# import cv2\n",
    "# from tensorflow.keras.models import load_model\n",
    "\n",
    "# def prepare(filepath, img_size=IMG_SIZE):\n",
    "#     img_array = cv2.imread(filepath, cv2.IMREAD_GRAYSCALE)\n",
    "#     new_array = cv2.reshape(-1, IMG_SIZE, IMG_SIZE, 1)\n",
    "    \n",
    "# model = load_model(\"the-model.model\")\n",
    "\n",
    "# prediction = model.predict([prepare('image.jpg')])"
   ]
  },
  {
   "cell_type": "code",
   "execution_count": null,
   "metadata": {},
   "outputs": [],
   "source": []
  }
 ],
 "metadata": {
  "kernelspec": {
   "display_name": "Python 3",
   "language": "python",
   "name": "python3"
  },
  "language_info": {
   "codemirror_mode": {
    "name": "ipython",
    "version": 3
   },
   "file_extension": ".py",
   "mimetype": "text/x-python",
   "name": "python",
   "nbconvert_exporter": "python",
   "pygments_lexer": "ipython3",
   "version": "3.6.5"
  }
 },
 "nbformat": 4,
 "nbformat_minor": 2
}
