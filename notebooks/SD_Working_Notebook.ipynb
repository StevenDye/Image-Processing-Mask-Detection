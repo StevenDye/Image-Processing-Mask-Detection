{
 "cells": [
  {
   "cell_type": "code",
   "execution_count": 1,
   "metadata": {},
   "outputs": [],
   "source": [
    "import numpy as np\n",
    "import sys\n",
    "import warnings\n",
    "warnings.filterwarnings('ignore')\n",
    "\n",
    "# insert at 1, 0 is the script path (or '' in REPL)\n",
    "sys.path.insert(1, '../src/data/')\n",
    "from make_dataset import X_train, y_train, X_test, y_test\n",
    "\n",
    "sys.path.insert(1, '../src/visualization/')\n",
    "import visualize as vi\n",
    "\n",
    "from tensorflow.keras import regularizers\n",
    "from tensorflow.keras.layers import (Dense,\n",
    "                                     Dropout,\n",
    "                                     Flatten,\n",
    "                                     Conv2D,\n",
    "                                     MaxPooling2D)\n",
    "from tensorflow.keras.models import Sequential\n",
    "from sklearn.metrics import confusion_matrix, classification_report"
   ]
  },
  {
   "cell_type": "code",
   "execution_count": 2,
   "metadata": {},
   "outputs": [],
   "source": [
    "# 1580 with_mask images\n",
    "# 1580 without_mask images\n",
    "# 3160 total images"
   ]
  },
  {
   "cell_type": "code",
   "execution_count": 3,
   "metadata": {},
   "outputs": [],
   "source": [
    "model = Sequential([\n",
    "                    Conv2D(256, (3, 3),\n",
    "                           activation='relu',\n",
    "                           input_shape=X_train.shape[1:],\n",
    "                           kernel_regularizer=regularizers.l2(0.005)),\n",
    "                    MaxPooling2D(pool_size=(2, 2)),\n",
    "                    Conv2D(256, (3, 3),\n",
    "                           activation='relu',\n",
    "                           kernel_regularizer=regularizers.l2(0.005)),\n",
    "                    MaxPooling2D(pool_size=(2, 2)),\n",
    "                    Flatten(),  # Converts 3D feature maps to 1D feature vecs\n",
    "                    Dense(64, activation='relu',\n",
    "                          kernel_regularizer=regularizers.l2(0.005)),\n",
    "                    Dense(1, activation='sigmoid')\n",
    "])"
   ]
  },
  {
   "cell_type": "code",
   "execution_count": 4,
   "metadata": {},
   "outputs": [],
   "source": [
    "model.compile(loss='binary_crossentropy',\n",
    "              optimizer='adam',\n",
    "              metrics=['accuracy'])"
   ]
  },
  {
   "cell_type": "code",
   "execution_count": 5,
   "metadata": {},
   "outputs": [
    {
     "name": "stdout",
     "output_type": "stream",
     "text": [
      "Model: \"sequential\"\n",
      "_________________________________________________________________\n",
      "Layer (type)                 Output Shape              Param #   \n",
      "=================================================================\n",
      "conv2d (Conv2D)              (None, 62, 62, 256)       2560      \n",
      "_________________________________________________________________\n",
      "max_pooling2d (MaxPooling2D) (None, 31, 31, 256)       0         \n",
      "_________________________________________________________________\n",
      "conv2d_1 (Conv2D)            (None, 29, 29, 256)       590080    \n",
      "_________________________________________________________________\n",
      "max_pooling2d_1 (MaxPooling2 (None, 14, 14, 256)       0         \n",
      "_________________________________________________________________\n",
      "flatten (Flatten)            (None, 50176)             0         \n",
      "_________________________________________________________________\n",
      "dense (Dense)                (None, 64)                3211328   \n",
      "_________________________________________________________________\n",
      "dense_1 (Dense)              (None, 1)                 65        \n",
      "=================================================================\n",
      "Total params: 3,804,033\n",
      "Trainable params: 3,804,033\n",
      "Non-trainable params: 0\n",
      "_________________________________________________________________\n"
     ]
    }
   ],
   "source": [
    "model.summary()"
   ]
  },
  {
   "cell_type": "code",
   "execution_count": 6,
   "metadata": {},
   "outputs": [],
   "source": [
    "from tensorflow.keras.callbacks import ModelCheckpoint, EarlyStopping\n",
    "file_path = \"../models/64x64-{epoch:02d}-{val_acc:.2f}.hdf5\"\n",
    "checkpoint = ModelCheckpoint(file_path, monitor='val_acc', verbose=1, save_best_only=True, mode='max')\n",
    "\n",
    "early_stop = EarlyStopping(monitor='val_loss', patience=3, verbose=1)"
   ]
  },
  {
   "cell_type": "code",
   "execution_count": 7,
   "metadata": {},
   "outputs": [
    {
     "name": "stdout",
     "output_type": "stream",
     "text": [
      "Epoch 1/5\n",
      "76/76 [==============================] - 183s 2s/step - loss: 1.1696 - accuracy: 0.6624 - val_loss: 0.7070 - val_accuracy: 0.8091\n",
      "Epoch 2/5\n",
      "76/76 [==============================] - 168s 2s/step - loss: 0.5940 - accuracy: 0.8220 - val_loss: 0.5147 - val_accuracy: 0.8407\n",
      "Epoch 3/5\n",
      "76/76 [==============================] - 193s 3s/step - loss: 0.4411 - accuracy: 0.8679 - val_loss: 0.4402 - val_accuracy: 0.8671\n",
      "Epoch 4/5\n",
      "76/76 [==============================] - 221s 3s/step - loss: 0.3945 - accuracy: 0.8755 - val_loss: 0.3674 - val_accuracy: 0.8903\n",
      "Epoch 5/5\n",
      "76/76 [==============================] - 222s 3s/step - loss: 0.3680 - accuracy: 0.8832 - val_loss: 0.3889 - val_accuracy: 0.8819\n"
     ]
    }
   ],
   "source": [
    "BATCH_SIZE = 50\n",
    "results = model.fit(X_train, y_train, batch_size=BATCH_SIZE, epochs=5, validation_split=0.2)"
   ]
  },
  {
   "cell_type": "code",
   "execution_count": 8,
   "metadata": {},
   "outputs": [
    {
     "name": "stdout",
     "output_type": "stream",
     "text": [
      "50/50 [==============================] - 22s 443ms/step - loss: 0.4210 - accuracy: 0.8544\n"
     ]
    },
    {
     "data": {
      "text/plain": [
       "[0.42100462317466736, 0.8544303774833679]"
      ]
     },
     "execution_count": 8,
     "metadata": {},
     "output_type": "execute_result"
    }
   ],
   "source": [
    "model.evaluate(X_test, y_test)"
   ]
  },
  {
   "cell_type": "code",
   "execution_count": 9,
   "metadata": {},
   "outputs": [],
   "source": [
    "# 50: [0.3500719666481018, 0.903797447681427]"
   ]
  },
  {
   "cell_type": "code",
   "execution_count": 10,
   "metadata": {},
   "outputs": [],
   "source": [
    "predictions = model.predict(x=X_test, batch_size=BATCH_SIZE, verbose=0)\n",
    "flat_list = [item for sublist in predictions.tolist() for item in sublist]\n",
    "rounded_predictions = [int(np.round(ele)) for ele in flat_list]"
   ]
  },
  {
   "cell_type": "code",
   "execution_count": 11,
   "metadata": {},
   "outputs": [
    {
     "data": {
      "text/plain": [
       "array([[737,  53],\n",
       "       [177, 613]])"
      ]
     },
     "execution_count": 11,
     "metadata": {},
     "output_type": "execute_result"
    }
   ],
   "source": [
    "cm = confusion_matrix(y_true=y_test, y_pred=rounded_predictions)\n",
    "cm"
   ]
  },
  {
   "cell_type": "code",
   "execution_count": 12,
   "metadata": {},
   "outputs": [
    {
     "name": "stdout",
     "output_type": "stream",
     "text": [
      "              precision    recall  f1-score   support\n",
      "\n",
      "           0       0.81      0.93      0.87       790\n",
      "           1       0.92      0.78      0.84       790\n",
      "\n",
      "    accuracy                           0.85      1580\n",
      "   macro avg       0.86      0.85      0.85      1580\n",
      "weighted avg       0.86      0.85      0.85      1580\n",
      "\n"
     ]
    }
   ],
   "source": [
    "print(classification_report(y_test, rounded_predictions))"
   ]
  },
  {
   "cell_type": "code",
   "execution_count": 13,
   "metadata": {},
   "outputs": [
    {
     "data": {
      "image/png": "[encoded data removed]",
      "text/plain": [
       "<Figure size 432x288 with 1 Axes>"
      ]
     },
     "metadata": {},
     "output_type": "display_data"
    },
    {
     "data": {
      "image/png": "[encoded data removed]",
      "text/plain": [
       "<Figure size 432x288 with 1 Axes>"
      ]
     },
     "metadata": {},
     "output_type": "display_data"
    }
   ],
   "source": [
    "vi.visualize_training_results(results)"
   ]
  },
  {
   "cell_type": "code",
   "execution_count": 15,
   "metadata": {},
   "outputs": [
    {
     "name": "stdout",
     "output_type": "stream",
     "text": [
      "confusion matrix, without normalization\n"
     ]
    },
    {
     "data": {
      "image/png": "[encoded data removed]",
      "text/plain": [
       "<Figure size 432x288 with 2 Axes>"
      ]
     },
     "metadata": {},
     "output_type": "display_data"
    }
   ],
   "source": [
    "CATEGORIES = ['with_mask', 'without_mask']\n",
    "vi.plot_confusion_matrix(cm=cm, classes=CATEGORIES, title='Confusion Matrix')"
   ]
  },
  {
   "cell_type": "code",
   "execution_count": 16,
   "metadata": {},
   "outputs": [],
   "source": [
    "model.save('test_model.h5')"
   ]
  },
  {
   "cell_type": "code",
   "execution_count": null,
   "metadata": {},
   "outputs": [],
   "source": [
    "# # Import image to test\n",
    "\n",
    "# import cv2\n",
    "# from tensorflow.keras.models import load_model\n",
    "\n",
    "# def prepare(filepath, img_size=IMG_SIZE):\n",
    "#     img_array = cv2.imread(filepath, cv2.IMREAD_GRAYSCALE)\n",
    "#     new_array = cv2.reshape(-1, IMG_SIZE, IMG_SIZE, 1)\n",
    "    \n",
    "# model = load_model(\"the-model.model\")\n",
    "\n",
    "# prediction = model.predict([prepare('image.jpg')])"
   ]
  }
 ],
 "metadata": {
  "kernelspec": {
   "display_name": "Python 3",
   "language": "python",
   "name": "python3"
  },
  "language_info": {
   "codemirror_mode": {
    "name": "ipython",
    "version": 3
   },
   "file_extension": ".py",
   "mimetype": "text/x-python",
   "name": "python",
   "nbconvert_exporter": "python",
   "pygments_lexer": "ipython3",
   "version": "3.6.5"
  }
 },
 "nbformat": 4,
 "nbformat_minor": 2
}
